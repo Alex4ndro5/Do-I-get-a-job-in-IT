{
 "cells": [
  {
   "cell_type": "code",
   "execution_count": 42,
   "metadata": {},
   "outputs": [],
   "source": [
    "import pandas as pd\n",
    "import numpy as np\n",
    "from math import log2\n",
    "import networkx as nx\n",
    "import matplotlib.pyplot as plt"
   ]
  },
  {
   "cell_type": "code",
   "execution_count": 43,
   "metadata": {},
   "outputs": [],
   "source": [
    "def entropy(data):\n",
    "    # Get the target column and its unique values\n",
    "    target_col = data.iloc[:, -1]\n",
    "    unique_vals = target_col.unique()\n",
    "    \n",
    "    # Calculate entropy for each unique value\n",
    "    entropy_vals = []\n",
    "    for val in unique_vals:\n",
    "        p = (target_col == val).sum() / len(target_col)\n",
    "        entropy_vals.append(-p * log2(p))\n",
    "    \n",
    "    # Return the sum of entropy values\n",
    "    return sum(entropy_vals)"
   ]
  },
  {
   "cell_type": "code",
   "execution_count": 44,
   "metadata": {},
   "outputs": [],
   "source": [
    "def information_gain(data, feature):\n",
    "    # Calculate entropy before splitting\n",
    "    before_split = entropy(data)\n",
    "    \n",
    "    # Get unique values of the feature\n",
    "    feature_vals = data[feature].unique()\n",
    "    \n",
    "    # Calculate entropy after splitting for each value of the feature\n",
    "    after_split = 0\n",
    "    for val in feature_vals:\n",
    "        subset = data[data[feature] == val]\n",
    "        after_split += len(subset) / len(data) * entropy(subset)\n",
    "    \n",
    "    # Calculate information gain\n",
    "    return before_split - after_split"
   ]
  },
  {
   "cell_type": "code",
   "execution_count": 45,
   "metadata": {},
   "outputs": [],
   "source": [
    "def best_feature(data):\n",
    "    # Get all feature names except the target column\n",
    "    feature_cols = data.columns[:-1]\n",
    "    \n",
    "    # Calculate information gain for each feature\n",
    "    info_gain = []\n",
    "    for feature in feature_cols:\n",
    "        info_gain.append(information_gain(data, feature))\n",
    "    \n",
    "    # Get the index of the feature with the highest information gain\n",
    "    best_index = np.argmax(info_gain)\n",
    "    \n",
    "    # Return the name of the best feature\n",
    "    return feature_cols[best_index]"
   ]
  },
  {
   "cell_type": "code",
   "execution_count": 46,
   "metadata": {},
   "outputs": [],
   "source": [
    "def build_tree(data):\n",
    "    # Base case: if all instances have the same target value, return that value\n",
    "    if len(data.iloc[:, -1].unique()) == 1:\n",
    "        return data.iloc[0, -1]\n",
    "    \n",
    "    # Base case: if there are no more features to split on, return the most common target value\n",
    "    if len(data.columns) == 1:\n",
    "        return data.iloc[:, -1].mode()[0]\n",
    "    \n",
    "    # Get the best feature to split on\n",
    "    best_feature_name = best_feature(data)\n",
    "    \n",
    "    # Create the tree\n",
    "    tree = {best_feature_name: {}}\n",
    "    for val in data[best_feature_name].unique():\n",
    "        subset = data[data[best_feature_name] == val].drop(best_feature_name, axis=1)\n",
    "        subtree = build_tree(subset)\n",
    "        tree[best_feature_name][val] = subtree\n",
    "    \n",
    "    return tree"
   ]
  },
  {
   "cell_type": "code",
   "execution_count": 47,
   "metadata": {},
   "outputs": [],
   "source": [
    "def predict(tree, data):\n",
    "    for feature in tree.keys():\n",
    "        value = data[feature]\n",
    "        subtree = tree[feature][value]\n",
    "        if isinstance(subtree, dict):\n",
    "            return predict(subtree, data)\n",
    "        else:\n",
    "            return subtree"
   ]
  },
  {
   "cell_type": "code",
   "execution_count": 54,
   "metadata": {},
   "outputs": [],
   "source": [
    "# Load the CSV file into a Pandas dataframe\n",
    "data = pd.read_csv('Training_Data.csv', delimiter=';', index_col=False)"
   ]
  },
  {
   "cell_type": "code",
   "execution_count": 49,
   "metadata": {},
   "outputs": [],
   "source": [
    "tree = build_tree(data)"
   ]
  },
  {
   "cell_type": "code",
   "execution_count": 50,
   "metadata": {},
   "outputs": [
    {
     "name": "stdout",
     "output_type": "stream",
     "text": [
      "{'Java': {1: 3, 0: {'HTML': {1: 2, 0: 1}}}}\n"
     ]
    }
   ],
   "source": [
    "print(tree)"
   ]
  },
  {
   "cell_type": "code",
   "execution_count": null,
   "metadata": {},
   "outputs": [],
   "source": [
    "# Make predictions using the decision tree\n",
    "predictions = []\n",
    "for i in range(len(data)):\n",
    "    instance = data.iloc[i, :-1]\n",
    "    predictions.append(predict(tree, instance))\n",
    "\n",
    "# Print the predictions\n",
    "# print(predictions)"
   ]
  }
 ],
 "metadata": {
  "kernelspec": {
   "display_name": "Python 3",
   "language": "python",
   "name": "python3"
  },
  "language_info": {
   "codemirror_mode": {
    "name": "ipython",
    "version": 3
   },
   "file_extension": ".py",
   "mimetype": "text/x-python",
   "name": "python",
   "nbconvert_exporter": "python",
   "pygments_lexer": "ipython3",
   "version": "3.9.13"
  },
  "orig_nbformat": 4
 },
 "nbformat": 4,
 "nbformat_minor": 2
}
