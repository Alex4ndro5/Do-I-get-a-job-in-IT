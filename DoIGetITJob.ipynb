{
 "cells": [
  {
   "attachments": {},
   "cell_type": "markdown",
   "metadata": {},
   "source": [
    "Projekt Elementy Sztucznej Inteligencji - Julia Baranowska, Aleksander Folfas, Julia Głowa"
   ]
  },
  {
   "attachments": {},
   "cell_type": "markdown",
   "metadata": {},
   "source": [
    "Import niezbędnych bibliotek"
   ]
  },
  {
   "cell_type": "code",
   "execution_count": 1,
   "metadata": {},
   "outputs": [],
   "source": [
    "import pandas as pd\n",
    "import numpy as np\n",
    "from math import log2\n",
    "import networkx as nx\n",
    "import matplotlib.pyplot as plt"
   ]
  },
  {
   "attachments": {},
   "cell_type": "markdown",
   "metadata": {},
   "source": [
    "Definicja funkcji, która na podstawie podanych danych obliczna wartości entropii oraz je sumuje"
   ]
  },
  {
   "cell_type": "code",
   "execution_count": 2,
   "metadata": {},
   "outputs": [],
   "source": [
    "def entropy(data):\n",
    "    # Get the target column and its unique values\n",
    "    target_col = data.iloc[:, -1]\n",
    "    unique_vals = target_col.unique()\n",
    "    \n",
    "    # Calculate entropy for each unique value\n",
    "    entropy_val = []\n",
    "    for val in unique_vals:\n",
    "        p = (target_col == val).sum() / len(target_col)\n",
    "        entropy_val.append(-p * log2(p))\n",
    "    \n",
    "    # Return the sum of entropy values\n",
    "    return sum(entropy_val)"
   ]
  },
  {
   "attachments": {},
   "cell_type": "markdown",
   "metadata": {},
   "source": [
    "Definicja funkcji, która oblicza wartość przesłanki"
   ]
  },
  {
   "cell_type": "code",
   "execution_count": 3,
   "metadata": {},
   "outputs": [],
   "source": [
    "def information_gain(data, feature):\n",
    "    # Calculate entropy before splitting\n",
    "    before_split = entropy(data)\n",
    "    \n",
    "    # Get unique values of the feature\n",
    "    feature_vals = data[feature].unique()\n",
    "    \n",
    "    # Calculate entropy after splitting for each value of the feature\n",
    "    after_split = 0\n",
    "    for val in feature_vals:\n",
    "        subset = data[data[feature] == val]\n",
    "        after_split += len(subset) / len(data) * entropy(subset)\n",
    "    \n",
    "    # Calculate information gain\n",
    "    return before_split - after_split"
   ]
  },
  {
   "attachments": {},
   "cell_type": "markdown",
   "metadata": {},
   "source": [
    "Definicja funkcji, która wybiera najlepszą przesłankę (dającą najwięcej informacji)"
   ]
  },
  {
   "cell_type": "code",
   "execution_count": 4,
   "metadata": {},
   "outputs": [],
   "source": [
    "def best_feature(data):\n",
    "    # Get all feature names except the target column\n",
    "    feature_cols = data.columns[:-1]\n",
    "    \n",
    "    # Calculate information gain for each feature\n",
    "    info_gain = []\n",
    "    for feature in feature_cols:\n",
    "        info_gain.append(information_gain(data, feature))\n",
    "    \n",
    "    # Get the index of the feature with the highest information gain\n",
    "    best_index = np.argmax(info_gain)\n",
    "    \n",
    "    # Return the name of the best feature\n",
    "    return feature_cols[best_index]"
   ]
  },
  {
   "attachments": {},
   "cell_type": "markdown",
   "metadata": {},
   "source": [
    "Definicja funkcji, która rekurencyjnie buduje drzewo decyzyjne"
   ]
  },
  {
   "cell_type": "code",
   "execution_count": 5,
   "metadata": {},
   "outputs": [],
   "source": [
    "def build_tree(data):\n",
    "    # Base case: if all instances have the same target value, return that value\n",
    "    if len(data.iloc[:, -1].unique()) == 1:\n",
    "        return data.iloc[0, -1]\n",
    "    \n",
    "    # Base case: if there are no more features to split on, return the most common target value\n",
    "    if len(data.columns) == 1:\n",
    "        return data.iloc[:, -1].mode()[0]\n",
    "    \n",
    "    # Get the best feature to split on\n",
    "    best_feature_name = best_feature(data)\n",
    "    \n",
    "    # Create the tree\n",
    "    tree = {best_feature_name: {}}\n",
    "    for val in data[best_feature_name].unique():\n",
    "        subset = data[data[best_feature_name] == val].drop(best_feature_name, axis=1)\n",
    "        subtree = build_tree(subset)\n",
    "        tree[best_feature_name][val] = subtree\n",
    "    \n",
    "    return tree"
   ]
  },
  {
   "attachments": {},
   "cell_type": "markdown",
   "metadata": {},
   "source": [
    "Definicja funkcji, która przewiduje wartości na podstawie zbudowanego drzewa oraz przesłanek"
   ]
  },
  {
   "cell_type": "code",
   "execution_count": 6,
   "metadata": {},
   "outputs": [],
   "source": [
    "def predict(tree, data):\n",
    "    for feature in tree.keys():\n",
    "        value = data[feature]\n",
    "        subtree = tree[feature][value]\n",
    "        if isinstance(subtree, dict):\n",
    "            return predict(subtree, data)\n",
    "        else:\n",
    "            return subtree"
   ]
  },
  {
   "attachments": {},
   "cell_type": "markdown",
   "metadata": {},
   "source": [
    "Wczytanie zestwu danych treningowych oraz testowych jako pandas dataframe"
   ]
  },
  {
   "cell_type": "code",
   "execution_count": 7,
   "metadata": {},
   "outputs": [],
   "source": [
    "data = pd.read_csv('Training_Data.csv', delimiter=';', index_col=False)\n",
    "test = pd.read_csv('Test_Data.csv', delimiter=';', index_col=False)"
   ]
  },
  {
   "attachments": {},
   "cell_type": "markdown",
   "metadata": {},
   "source": [
    "Stworzenie dzrzewa decyzyjnego za pomocą funckcji build_tree oraz wypisanie rezultatów"
   ]
  },
  {
   "cell_type": "code",
   "execution_count": 8,
   "metadata": {},
   "outputs": [
    {
     "name": "stdout",
     "output_type": "stream",
     "text": [
      "{'HTML': {0: {'Java': {0: {'Python': {1: {'BasicEnglish': {1: {'Bachelor': {0: {'NoEducation': {1: {'NoExperience': {1: 0, 0: {'StudentStatus': {1: {'AcademicExperience': {1: 0, 0: 1}}, 0: {'AcademicExperience': {1: 1, 0: 0}}}}}}, 0: {'NoExperience': {1: {'StudentStatus': {1: 0, 0: 1}}, 0: 1}}}}, 1: {'NoExperience': {1: {'StudentStatus': {1: 0, 0: 1}}, 0: {'StudentStatus': {1: {'AcademicExperience': {1: 3, 0: 1}}, 0: {'AcademicExperience': {1: 1, 0: 3}}}}}}}}, 0: {'Master': {0: {'AcademicExperience': {0: {'StudentStatus': {1: {'NoEducation': {1: {'AdvancedEnglish': {1: 3, 0: {'NoExperience': {1: 1, 0: 0}}}}, 0: {'NoExperience': {1: {'AdvancedEnglish': {1: 0, 0: 1}}, 0: {'AdvancedEnglish': {1: 1, 0: 3}}}}}}, 0: {'NoEducation': {1: 1, 0: {'NoExperience': {1: {'AdvancedEnglish': {1: 1, 0: 3}}, 0: 1}}}}}}, 1: {'StudentStatus': {1: 1, 0: {'NoEducation': {1: {'AdvancedEnglish': {1: 0, 0: 1}}, 0: 1}}}}}}, 1: {'AcademicExperience': {0: 1, 1: {'StudentStatus': {1: {'AdvancedEnglish': {1: 3, 0: 1}}, 0: 1}}}}}}}}, 0: {'StudentStatus': {1: {'Master': {0: {'BasicEnglish': {1: {'AcademicExperience': {0: {'NoStudentStatus': {0: {'NoEducation': {1: {'NoExperience': {1: 1, 0: 0}}, 0: {'NoExperience': {1: 0, 0: 1}}}}}}, 1: 0}}, 0: {'NoEducation': {1: {'AdvancedEnglish': {1: {'AcademicExperience': {0: 1, 1: 0}}, 0: {'AcademicExperience': {0: 0, 1: 1}}}}, 0: {'NoExperience': {1: {'AdvancedEnglish': {1: 0, 0: 1}}, 0: 1}}}}}}, 1: {'ComercialExperience': {0: 1, 1: {'FluentEnglish': {0: 1, 1: 0}}}}}}, 0: {'NoEducation': {1: {'BasicEnglish': {1: {'NoExperience': {1: 1, 0: 0}}, 0: 1}}, 0: 1}}}}}}, 1: {'AdvancedEnglish': {0: {'Master': {0: {'BasicEnglish': {1: {'NoExperience': {1: {'StudentStatus': {1: 0, 0: {'NoEducation': {1: 3, 0: 0}}}}, 0: {'StudentStatus': {1: {'NoEducation': {1: 3, 0: {'AcademicExperience': {1: 0, 0: 3}}}}, 0: {'NoEducation': {1: 0, 0: 3}}}}}}, 0: {'ComercialExperience': {0: 3, 1: {'StudentStatus': {1: 0, 0: 3}}}}}}, 1: 3}}, 1: 3}}}}, 1: {'AdvancedEnglish': {0: {'Master': {0: {'BasicEnglish': {1: {'AcademicExperience': {0: {'StudentStatus': {1: {'NoEducation': {1: 0, 0: {'NoExperience': {1: 0, 0: 2}}}}, 0: {'NoStudentStatus': {1: {'NoEducation': {1: {'NoExperience': {1: 2, 0: 0}}, 0: {'NoExperience': {1: 0, 0: 2}}}}}}}}, 1: {'StudentStatus': {1: 2, 0: {'NoEducation': {1: 0, 0: 2}}}}}}, 0: {'ComercialExperience': {0: 2, 1: {'StudentStatus': {1: 0, 0: 2}}}}}}, 1: 2}}, 1: 2}}}}\n"
     ]
    }
   ],
   "source": [
    "tree = build_tree(data)\n",
    "print(tree)"
   ]
  },
  {
   "attachments": {},
   "cell_type": "markdown",
   "metadata": {},
   "source": [
    "Stworzenie predykcji na zestawie testowych z wykorzystaniem drzewa decyzyjnego "
   ]
  },
  {
   "cell_type": "code",
   "execution_count": 9,
   "metadata": {},
   "outputs": [
    {
     "name": "stdout",
     "output_type": "stream",
     "text": [
      "[3, 2, 1, 1, 3, 2, 1, 1, 3, 2]\n"
     ]
    }
   ],
   "source": [
    "# Make predictions using the decision tree\n",
    "predictions = []\n",
    "for i in range(len(test)):\n",
    "    instance = test.iloc[i, :-1]\n",
    "    predictions.append(predict(tree, instance))\n",
    "\n",
    "# Print the predictions\n",
    "print(predictions)"
   ]
  }
 ],
 "metadata": {
  "kernelspec": {
   "display_name": "Python 3",
   "language": "python",
   "name": "python3"
  },
  "language_info": {
   "codemirror_mode": {
    "name": "ipython",
    "version": 3
   },
   "file_extension": ".py",
   "mimetype": "text/x-python",
   "name": "python",
   "nbconvert_exporter": "python",
   "pygments_lexer": "ipython3",
   "version": "3.10.10"
  },
  "orig_nbformat": 4
 },
 "nbformat": 4,
 "nbformat_minor": 2
}
